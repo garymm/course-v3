{
 "cells": [
  {
   "cell_type": "code",
   "execution_count": 1,
   "metadata": {},
   "outputs": [
    {
     "name": "stdout",
     "output_type": "stream",
     "text": [
      "Installing packages:\n",
      "\t.package(url: \"https://github.com/mxcl/Path.swift\", from: \"1.2.0\")\n",
      "\t\tPath\n",
      "\t.package(url: \"https://github.com/swiftcsv/SwiftCSV\", from: \"0.5.6\")\n",
      "\t\tSwiftCSV\n",
      "With SwiftPM flags: []\n",
      "Working in: /tmp/tmpfnp4f5ra/swift-install\n",
      "Fetching https://github.com/swiftcsv/SwiftCSV\n",
      "Fetching https://github.com/mxcl/Path.swift\n",
      "Cloning https://github.com/mxcl/Path.swift\n",
      "Resolving https://github.com/mxcl/Path.swift at 1.2.0\n",
      "Cloning https://github.com/swiftcsv/SwiftCSV\n",
      "Resolving https://github.com/swiftcsv/SwiftCSV at 0.5.6\n",
      "[1/21] Compiling Path Pathish.swift\n",
      "[2/21] Compiling Path Path+StringConvertibles.swift\n",
      "[4/21] Compiling SwiftCSV NamedView.swift\n",
      "[5/21] Compiling SwiftCSV Parser.swift\n",
      "[6/21] Compiling Path Path+ls.swift\n",
      "[7/21] Compiling SwiftCSV EnumeratedView.swift\n",
      "[9/21] Compiling Path Path.swift\n",
      "[10/21] Compiling SwiftCSV CSV.swift\n",
      "[11/21] Compiling SwiftCSV Description.swift\n",
      "[12/21] Compiling Path Path->Bool.swift\n",
      "[17/22] Merging module SwiftCSV\n",
      "[18/22] Wrapping AST for SwiftCSV for debugging\n",
      "[20/23] Merging module Path\n",
      "[21/23] Wrapping AST for Path for debugging\n",
      "[22/24] Compiling jupyterInstalledPackages jupyterInstalledPackages.swift\n",
      "[23/25] Merging module jupyterInstalledPackages\n",
      "[24/25] Wrapping AST for jupyterInstalledPackages for debugging\n",
      "[25/25] Linking libjupyterInstalledPackages.so\n",
      "Initializing Swift...\n",
      "Installation complete!\n"
     ]
    }
   ],
   "source": [
    "// Swift package installation must go in the first cell.\n",
    "// Set install-location so that all notebooks in this directory\n",
    "// will share packages without having to recompile them.\n",
    "// I think this only needs to be run once per host, then in the future\n",
    "// you can skip this and go to cell 2 which imports things that have been precompiled.\n",
    "%install-location $cwd/swift-jupyter-install-location\n",
    "%install '.package(url: \"https://github.com/mxcl/Path.swift\", from: \"1.2.0\")' Path\n",
    "%install '.package(url: \"https://github.com/swiftcsv/SwiftCSV\", from: \"0.5.6\")' SwiftCSV"
   ]
  },
  {
   "cell_type": "code",
   "execution_count": 2,
   "metadata": {},
   "outputs": [],
   "source": [
    "// Imports and Jupyter boiler plate\n",
    "import Foundation\n",
    "import FoundationNetworking\n",
    "import Path\n",
    "import PythonKit\n",
    "import SwiftCSV\n",
    "import TensorFlow\n",
    "\n",
    "// This cell is here to display the plots in a Jupyter Notebook.\n",
    "// Do not copy it into another environment.\n",
    "%include \"EnableIPythonDisplay.swift\"\n",
    "IPythonDisplay.shell.enable_matplotlib(\"inline\")\n",
    "\n",
    "let plt = Python.import(\"matplotlib.pyplot\")\n",
    "let fastaiDataExternal = Python.import(\"fastai.data.external\")\n",
    "let tarfile = Python.import(\"tarfile\")"
   ]
  },
  {
   "cell_type": "code",
   "execution_count": 3,
   "metadata": {},
   "outputs": [],
   "source": [
    "// TODO: move this to a library or use SwiftAI\n",
    "func download(from source: URL, to destination: Path, force: Bool = false) {\n",
    "    if (destination.exists && !force) {\n",
    "        return\n",
    "    }\n",
    "    let data = try! Data.init(contentsOf: source)\n",
    "    if (!destination.parent.exists) {\n",
    "        try! destination.parent.mkdir(.p)\n",
    "    }\n",
    "    try! data.write(to: destination)\n",
    "}"
   ]
  },
  {
   "cell_type": "code",
   "execution_count": 4,
   "metadata": {},
   "outputs": [
    {
     "name": "stdout",
     "output_type": "stream",
     "text": [
      "/home/garymm/src/fastai/course-v3/nbs/dl1-swift/data/movie_lens_sample.tgz\r\n"
     ]
    }
   ],
   "source": [
    "let dataPath = Path.cwd/\"data\"\n",
    "// Full data set: fastaiDataExternal.URLs.ML_100k\n",
    "// Sample data set: fastaiDataExternal.URLs.ML_SAMPLE\n",
    "let movieLensURL = URL(string: String(fastaiDataExternal.URLs.ML_SAMPLE)!)!\n",
    "let mlTgz = dataPath/movieLensURL.lastPathComponent\n",
    "download(from: movieLensURL, to: mlTgz)\n",
    "print(mlTgz)"
   ]
  },
  {
   "cell_type": "code",
   "execution_count": 5,
   "metadata": {},
   "outputs": [
    {
     "name": "stdout",
     "output_type": "stream",
     "text": [
      "[Path(/home/garymm/src/fastai/course-v3/nbs/dl1-swift/data/movie_lens_sample), Path(/home/garymm/src/fastai/course-v3/nbs/dl1-swift/data/movie_lens_sample.tgz)]\r\n"
     ]
    }
   ],
   "source": [
    "let mlTgzTarfile = tarfile.open(mlTgz.string)\n",
    "mlTgzTarfile.extractall(path: dataPath.string)\n",
    "mlTgzTarfile.close()\n",
    "print(dataPath.ls())"
   ]
  },
  {
   "cell_type": "code",
   "execution_count": 6,
   "metadata": {},
   "outputs": [
    {
     "name": "stdout",
     "output_type": "stream",
     "text": [
      "loaded 6031 rows with columns [\"userId\", \"movieId\", \"rating\", \"timestamp\"]\r\n"
     ]
    }
   ],
   "source": [
    "let mlPath = dataPath/mlTgz.basename(dropExtension: true)\n",
    "let ratingsCSV: CSV = CSV(url: URL(fileURLWithPath: mlPath.ls()[0].string), loadColumns: false)\n",
    "print(\"loaded \\(ratingsCSV.namedRows.count) rows with columns \\(ratingsCSV.header)\")"
   ]
  },
  {
   "cell_type": "code",
   "execution_count": 7,
   "metadata": {},
   "outputs": [
    {
     "name": "stdout",
     "output_type": "stream",
     "text": [
      "Training Tensors:\n",
      "trainRatings.shape, trainIds.shape = [4304] [4304, 2]\n",
      "Row 0: 73, 1097, 4.0\n",
      "Row 1: 157, 260, 3.5\n",
      "Row 2: 358, 1210, 5.0\n",
      "Row 3: 544, 2918, 5.0\n",
      "Row 4: 213, 1200, 3.0\n",
      "Row 5: 176, 2571, 4.5\n"
     ]
    }
   ],
   "source": [
    "let userIdColIndex = ratingsCSV.header.firstIndex(of: \"userId\")!\n",
    "let movieIdColIndex = ratingsCSV.header.firstIndex(of: \"movieId\")!\n",
    "let ratingColIndex = ratingsCSV.header.firstIndex(of: \"rating\")!\n",
    "let validModTen = 3\n",
    "var trainRatingsArray : [Float] = [], validRatingsArray : [Float] = []\n",
    "var trainIdsArray: [UInt16] = [], validIdsArray : [UInt16] = []\n",
    "func addToArray(row: [String]) {\n",
    "    if row.count < ratingColIndex + 1 {\n",
    "        return\n",
    "    }\n",
    "    guard let userId = UInt16(row[userIdColIndex]) else {\n",
    "        print(\"Failed to convert element \\(userIdColIndex) of row to UInt16: \\(row)\")\n",
    "        return\n",
    "    }\n",
    "    guard let movieId = UInt16(row[movieIdColIndex]) else {\n",
    "        print(\"Failed to convert element \\(movieIdColIndex) of row to UInt16: \\(row)\")\n",
    "        return\n",
    "    }\n",
    "    guard let rating = Float(row[ratingColIndex]) else {\n",
    "        print(\"Failed to convert to Float: \\(row[ratingColIndex])\")\n",
    "        return\n",
    "    }\n",
    "    if (userId % 10 < validModTen) {\n",
    "        validIdsArray.append(userId)\n",
    "        validIdsArray.append(movieId)\n",
    "        validRatingsArray.append(rating)\n",
    "    } else {\n",
    "        trainIdsArray.append(userId)\n",
    "        trainIdsArray.append(movieId)\n",
    "        trainRatingsArray.append(rating)\n",
    "    }\n",
    "}\n",
    "ratingsCSV.enumerateAsArray(// Skip header\n",
    "                            startAt: 1,\n",
    "                            addToArray)\n",
    "let trainRatings = Tensor<Float>(trainRatingsArray)\n",
    "let validRatings = Tensor<Float>(validRatingsArray)\n",
    "let trainIds = Tensor<UInt16>(shape: [trainIdsArray.count / 2, 2], scalars: trainIdsArray)\n",
    "let validIds = Tensor<UInt16>(shape: [validIdsArray.count / 2, 2], scalars: validIdsArray)\n",
    "print(\"Training Tensors:\")\n",
    "print(\"trainRatings.shape, trainIds.shape = \\(trainRatings.shape) \\(trainIds.shape)\")\n",
    "for i in 0...5 {\n",
    "    print(\"Row \\(i): \\(trainIds[i][0]), \\(trainIds[i][1]), \\(trainRatings[i])\")\n",
    "}"
   ]
  },
  {
   "cell_type": "code",
   "execution_count": null,
   "metadata": {},
   "outputs": [],
   "source": [
    "let trainIdsHead = trainIds[0..<5]\n",
    "print(trainIdsHead)\n",
    "let trainIdsHeadParts = trainIdsHead.split(count: 2, alongAxis: 1)\n",
    "let trainUserIdHead = trainIdsHeadParts[userIdColIndex].squeezingShape()\n",
    "let trainMovieIdHead = trainIdsHeadParts[movieIdColIndex].squeezingShape()\n",
    "print(trainUserIdHead)\n",
    "print(trainMovieIdHead)"
   ]
  },
  {
   "cell_type": "code",
   "execution_count": null,
   "metadata": {},
   "outputs": [],
   "source": [
    "struct EmbeddingDotBias: Layer {\n",
    "    init(nFactors: UInt, nUsers: UInt, nItems: UInt, yRange: (Float, Float)?) {\n",
    "        self.uWeight = Embedding<Float>(vocabularySize: nUsers, embeddingSize: nFactors)\n",
    "        self.iWeight = Embedding<Float>(vocabularySize: nItems, embeddingSize: nFactors)\n",
    "        self.uBias = Embedding<Float>(vocabularySize: nUsers, embeddingSize: 1)\n",
    "        self.iBias = Embedding<Float>(vocabularySize: nItems, embeddingSize: 1)\n",
    "        self.yRange = yRange\n",
    "    }\n",
    "    @differentiable\n",
    "    func callAsFunction(_ input: Tensor<UInt16>) -> Tensor<Float> {\n",
    "        let inputParts = input.split(count: 2, alongAxis: 1)\n",
    "        let users = inputParts[userIdColIndex].squeezingShape()\n",
    "        let items = inputParts[movieIdColIndex].squeezingShape()\n",
    "        let dotProd = self.uWeight[]\n",
    "    }\n",
    "}"
   ]
  },
  {
   "cell_type": "code",
   "execution_count": null,
   "metadata": {},
   "outputs": [],
   "source": [
    "var model = EmbeddingDotBias()"
   ]
  }
 ],
 "metadata": {
  "kernelspec": {
   "display_name": "Swift",
   "language": "swift",
   "name": "swift"
  },
  "language_info": {
   "file_extension": ".swift",
   "mimetype": "text/x-swift",
   "name": "swift",
   "version": ""
  }
 },
 "nbformat": 4,
 "nbformat_minor": 4
}
